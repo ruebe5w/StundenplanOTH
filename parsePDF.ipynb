{
 "cells": [
  {
   "cell_type": "code",
   "execution_count": 29,
   "id": "ef728fc1-6112-4e80-b3d7-04f4188daa00",
   "metadata": {
    "scrolled": true
   },
   "outputs": [],
   "source": [
    "import pdfplumber\n",
    "import random\n",
    "\n",
    "pdf=pdfplumber.open(\"Stundenplan_MI.pdf\")\n",
    "page = pdf.pages[4]\n",
    "table=page.extract_table({\n",
    "\"vertical_strategy\": \"lines_strict\", \n",
    "\"horizontal_strategy\": \"lines_strict\",})\n",
    "\n",
    "img=page.to_image()    \n",
    "rects =  [ x for x in page.rects\n",
    "        if x[\"width\"] > 100 and x[\"width\"] < 200 and x[\"height\"]>30]\n",
    "\n",
    "class Vorlesung:\n",
    "\n",
    "    def __init__(self):\n",
    "        self.tag = \"\"\n",
    "        self.name = \"\"\n",
    "        self.longname = \"\"\n",
    "        self.dozent = \"\"\n",
    "        self.raum = \"\"\n",
    "        self.startBlock = \"\"\n",
    "        self.endBlock = \"\"\n",
    "        self.notes = \"\"\n",
    "\n",
    "    def __str__(self):\n",
    "        return (\n",
    "            \" \"\n",
    "            + self.name\n",
    "            + \". \"\n",
    "            + self.dozent\n",
    "            + \". \"\n",
    "            + self.raum\n",
    "            + \". \"\n",
    "            + str(self.tag)\n",
    "            + \". \"\n",
    "            + str(self.startBlock)\n",
    "            + \"-\"\n",
    "            + str(self.endBlock)\n",
    "            + \". \"\n",
    "            + str(self.notes)\n",
    "        )\n",
    "def numberToDay(num):\n",
    "    if abs(num-110)<5:\n",
    "        return 'mo'\n",
    "    elif abs(num-248)<5:\n",
    "        return 'di'\n",
    "    elif abs(num-385)<5:\n",
    "        return 'mi'\n",
    "    elif abs(num-523)<5:\n",
    "        return 'do'\n",
    "    elif abs(num-661)<5:\n",
    "        return 'fr'\n",
    "\n",
    "def numberToBlockstart(num):\n",
    "    if abs(num-111)<5:\n",
    "        return 1\n",
    "    elif abs(num-172)<5:\n",
    "        return 2\n",
    "    elif abs(num-232)<5:\n",
    "        return 3\n",
    "    elif abs(num-294)<5:\n",
    "        return 4\n",
    "    elif abs(num-353)<5:\n",
    "        return 5\n",
    "    elif abs(num-413)<5:\n",
    "        return 6\n",
    "    elif abs(num-473)<5:\n",
    "        return 7\n",
    "    elif abs(num-534)<5:\n",
    "        return 8\n"
   ]
  },
  {
   "cell_type": "code",
   "execution_count": 30,
   "id": "953c5270-c03f-4ff9-9f9d-8d02d9027b23",
   "metadata": {},
   "outputs": [
    {
     "name": "stdout",
     "output_type": "stream",
     "text": [
      " CV_Pr. Ivanovska, Kestler. MBUT124. mo. 2-3. \n",
      " CV_VL. Ivanovska. EMI113. mo. 4-4. \n",
      " BAS. Rebholz. EMI002. di. 1-1. \n",
      " APPP. Schäfer. DC107. di. 4-5. \n",
      " INFSEC. Hirsch. EMI102. do. 2-3. \n",
      " BLOCK. Neumann. EMI311. fr. 2-2. CertifiedTester&\n"
     ]
    },
    {
     "data": {
      "image/png": "[encoded data removed]",
      "text/plain": [
       "<pdfplumber.display.PageImage at 0x7f8be80746e0>"
      ]
     },
     "metadata": {},
     "output_type": "display_data"
    }
   ],
   "source": [
    "img.reset()\n",
    "vls=[]\n",
    "for rect in rects:\n",
    "    img.draw_rect(rect,stroke_width=4,stroke=(random.randint(0,255), random.randint(0,255), random.randint(0,255)))\n",
    "    box=(round(rect['x0']),round(rect['top']),round(rect['x1']),round(rect['bottom']))\n",
    "    #print(box)\n",
    "    \n",
    "    cropt=page.crop(box, relative=True)\n",
    "    text=cropt.extract_text().split()\n",
    "    vl=Vorlesung()\n",
    "    vl.startBlock=numberToBlockstart(box[1])\n",
    "    vl.endBlock=numberToBlockstart(box[3])-1\n",
    "    vl.tag=numberToDay(box[0])\n",
    "    #print(text)\n",
    "    if text[0]==text[1]:\n",
    "        vl.name=text[0]\n",
    "        vl.dozent=text[2]+\", \"+text[3]\n",
    "        if text[4]==text[5]:\n",
    "            vl.raum=text[4]\n",
    "        else:\n",
    "            vl.raum=text[4]+\", \"+text[5]\n",
    "        if len(text)>6:\n",
    "            vl.notes=text[6]\n",
    "    else:\n",
    "        vl.name=text[0]\n",
    "        vl.dozent=text[1]\n",
    "        vl.raum=text[2]\n",
    "        if len(text)>3:\n",
    "            vl.notes=text[3]\n",
    "    print(vl)\n",
    "    vls.append(vl)\n",
    " \n",
    "display(img)"
   ]
  },
  {
   "cell_type": "code",
   "execution_count": null,
   "id": "6b3cfe64-1213-4a16-baf3-54d033821e02",
   "metadata": {},
   "outputs": [],
   "source": []
  }
 ],
 "metadata": {
  "kernelspec": {
   "display_name": "Python 3 (ipykernel)",
   "language": "python",
   "name": "python3"
  },
  "language_info": {
   "codemirror_mode": {
    "name": "ipython",
    "version": 3
   },
   "file_extension": ".py",
   "mimetype": "text/x-python",
   "name": "python",
   "nbconvert_exporter": "python",
   "pygments_lexer": "ipython3",
   "version": "3.12.3"
  }
 },
 "nbformat": 4,
 "nbformat_minor": 5
}
